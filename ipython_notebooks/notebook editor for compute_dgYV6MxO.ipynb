{
  "metadata": {
    "kernelspec": {
      "display_name": "Python (env python_36)",
      "name": "py-dku-venv-python_36",
      "language": "python"
    },
    "language_info": {
      "mimetype": "text/x-python",
      "nbconvert_exporter": "python",
      "version": "3.6.14",
      "name": "python",
      "pygments_lexer": "ipython3",
      "file_extension": ".py",
      "codemirror_mode": {
        "version": 3,
        "name": "ipython"
      }
    },
    "tags": [
      "recipe-editor"
    ],
    "associatedRecipe": "compute_dgYV6MxO",
    "createdOn": 1643752966866,
    "hide_input": false,
    "customFields": {},
    "creator": "admin",
    "modifiedBy": "admin"
  },
  "nbformat": 4,
  "nbformat_minor": 1,
  "cells": [
    {
      "execution_count": 1,
      "cell_type": "code",
      "metadata": {},
      "source": [
        "%config Completer.use_jedi \u003d False"
      ],
      "outputs": []
    },
    {
      "execution_count": 2,
      "cell_type": "code",
      "metadata": {},
      "source": [
        "# -*- coding: utf-8 -*-\nimport dataiku\nimport os\nimport urllib\nimport imghdr\nimport posixpath\nimport pandas as pd\nimport numpy as np\nfrom collections import Counter\nfrom dataiku import pandasutils as pdu"
      ],
      "outputs": []
    },
    {
      "execution_count": 3,
      "cell_type": "code",
      "metadata": {},
      "source": [
        "# Write recipe outputs\nimages \u003d dataiku.Folder(\"dgYV6MxO\")"
      ],
      "outputs": []
    },
    {
      "execution_count": 8,
      "cell_type": "code",
      "metadata": {},
      "source": [
        "link \u003d dataiku.Project().get_variables()[\u0027standard\u0027][\u0027image_url\u0027]"
      ],
      "outputs": []
    },
    {
      "execution_count": 0,
      "cell_type": "code",
      "metadata": {},
      "source": [
        "def download_image(link, output_dir, image_name, timeout\u003d60):\n    headers \u003d {\u0027User-Agent\u0027: \u0027Mozilla/5.0 (X11; Linux x86_64) \u0027\n        \u0027AppleWebKit/537.11 (KHTML, like Gecko) \u0027\n        \u0027Chrome/23.0.1271.64 Safari/537.11\u0027,\n        \u0027Accept\u0027: \u0027text/html,application/xhtml+xml,application/xml;q\u003d0.9,*/*;q\u003d0.8\u0027,\n        \u0027Accept-Charset\u0027: \u0027ISO-8859-1,utf-8;q\u003d0.7,*;q\u003d0.3\u0027,\n        \u0027Accept-Encoding\u0027: \u0027none\u0027,\n        \u0027Accept-Language\u0027: \u0027en-US,en;q\u003d0.8\u0027,\n        \u0027Connection\u0027: \u0027keep-alive\u0027}\n    # Get the image link\n    try:\n        path \u003d urllib.parse.urlsplit(link).path\n        filename \u003d posixpath.basename(path).split(\u0027?\u0027)[0]\n        file_type \u003d filename.split(\".\")[-1]\n        if file_type.lower() not in [\"jpe\", \"jpeg\", \"jfif\", \"exif\", \"tiff\", \"gif\", \"bmp\", \"png\", \"webp\", \"jpg\"]:\n            file_type \u003d \"jpg\"\n\n        # Download the image\n        print(\"[%] Downloading Image from {}\".format(link))\n\n        # Save the image\n        file_path \u003d os.path.join(output_dir, f\"{image_name}.{file_type}\")\n        request \u003d urllib.request.Request(link, None, headers)\n        image \u003d urllib.request.urlopen(request, timeout\u003dtimeout).read()\n        if not imghdr.what(None, image):\n            print(\u0027[Error]Invalid image, not saving {}\\n\u0027.format(link))\n            raise ValueError(\u0027Invalid image, not saving {}\\n\u0027.format(link))\n        with open(str(file_path), \u0027wb\u0027) as f:\n            f.write(image)\n        print(\"[%] File Downloaded !\\n\")\n\n    except Exception as e:\n        print(\"[!] Issue getting: {}\\n[!] Error:: {}\".format(link, e))"
      ],
      "outputs": []
    },
    {
      "execution_count": 0,
      "cell_type": "code",
      "metadata": {},
      "source": [
        "label_dir \u003d images.get_path()\nlabel \u003d \u0027bear\u0027\n\ndownload_image(link, label_dir, f\u0027{label}_{labels_ctr[label]}\u0027)"
      ],
      "outputs": []
    }
  ]
}