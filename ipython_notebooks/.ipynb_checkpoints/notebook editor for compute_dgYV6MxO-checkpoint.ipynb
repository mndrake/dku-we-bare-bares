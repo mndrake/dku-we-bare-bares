{
  "nbformat": 4,
  "nbformat_minor": 0,
  "metadata": {
    "kernelspec": {
      "display_name": "Python (env python_36)",
      "language": "python",
      "name": "py-dku-venv-python_36"
    },
    "associatedRecipe": "compute_dgYV6MxO",
    "creator": "admin",
    "createdOn": 1643752966866,
    "tags": [
      "recipe-editor"
    ],
    "customFields": {}
  },
  "cells": [
    {
      "cell_type": "code",
      "metadata": {},
      "outputs": [],
      "execution_count": 0,
      "source": [
        "# -*- coding: utf-8 -*-\n",
        "import dataiku\n",
        "import pandas as pd, numpy as np\n",
        "from dataiku import pandasutils as pdu\n",
        "\n",
        "\n",
        "\n",
        "\n",
        "\n",
        "# Write recipe outputs\n",
        "images_to_classify \u003d dataiku.Folder(\"dgYV6MxO\")\n",
        "images_to_classify_info \u003d images_to_classify.get_info()"
      ]
    },
    {
      "cell_type": "code",
      "metadata": {},
      "outputs": [],
      "execution_count": 0,
      "source": [
        "#%config Completer.use_jedi \u003d False"
      ]
    },
    {
      "cell_type": "code",
      "metadata": {},
      "outputs": [],
      "execution_count": 0,
      "source": [
        "# -*- coding: utf-8 -*-\n",
        "import dataiku\n",
        "import os\n",
        "import urllib\n",
        "import imghdr\n",
        "import posixpath\n",
        "import pandas as pd\n",
        "import numpy as np\n",
        "from collections import Counter\n",
        "from dataiku import pandasutils as pdu"
      ]
    },
    {
      "cell_type": "code",
      "metadata": {},
      "outputs": [],
      "execution_count": 0,
      "source": [
        "# Read recipe inputs\n",
        "image_urls \u003d dataiku.Dataset(\"image_urls\")"
      ]
    },
    {
      "cell_type": "code",
      "metadata": {},
      "outputs": [],
      "execution_count": 0,
      "source": [
        "# Write recipe outputs\n",
        "images \u003d dataiku.Folder(\"GjLGrGsz\")"
      ]
    },
    {
      "cell_type": "code",
      "metadata": {},
      "outputs": [],
      "execution_count": 0,
      "source": [
        "def download_image(link, output_dir, image_name, timeout\u003d60):\n",
        "    headers \u003d {\u0027User-Agent\u0027: \u0027Mozilla/5.0 (X11; Linux x86_64) \u0027\n",
        "        \u0027AppleWebKit/537.11 (KHTML, like Gecko) \u0027\n",
        "        \u0027Chrome/23.0.1271.64 Safari/537.11\u0027,\n",
        "        \u0027Accept\u0027: \u0027text/html,application/xhtml+xml,application/xml;q\u003d0.9,*/*;q\u003d0.8\u0027,\n",
        "        \u0027Accept-Charset\u0027: \u0027ISO-8859-1,utf-8;q\u003d0.7,*;q\u003d0.3\u0027,\n",
        "        \u0027Accept-Encoding\u0027: \u0027none\u0027,\n",
        "        \u0027Accept-Language\u0027: \u0027en-US,en;q\u003d0.8\u0027,\n",
        "        \u0027Connection\u0027: \u0027keep-alive\u0027}\n",
        "    # Get the image link\n",
        "    try:\n",
        "        path \u003d urllib.parse.urlsplit(link).path\n",
        "        filename \u003d posixpath.basename(path).split(\u0027?\u0027)[0]\n",
        "        file_type \u003d filename.split(\".\")[-1]\n",
        "        if file_type.lower() not in [\"jpe\", \"jpeg\", \"jfif\", \"exif\", \"tiff\", \"gif\", \"bmp\", \"png\", \"webp\", \"jpg\"]:\n",
        "            file_type \u003d \"jpg\"\n",
        "\n",
        "        # Download the image\n",
        "        print(\"[%] Downloading Image from {}\".format(link))\n",
        "\n",
        "        # Save the image\n",
        "        file_path \u003d os.path.join(output_dir, f\"{image_name}.{file_type}\")\n",
        "        request \u003d urllib.request.Request(link, None, headers)\n",
        "        image \u003d urllib.request.urlopen(request, timeout\u003dtimeout).read()\n",
        "        if not imghdr.what(None, image):\n",
        "            print(\u0027[Error]Invalid image, not saving {}\\n\u0027.format(link))\n",
        "            raise ValueError(\u0027Invalid image, not saving {}\\n\u0027.format(link))\n",
        "        with open(str(file_path), \u0027wb\u0027) as f:\n",
        "            f.write(image)\n",
        "        print(\"[%] File Downloaded !\\n\")\n",
        "\n",
        "    except Exception as e:\n",
        "        print(\"[!] Issue getting: {}\\n[!] Error:: {}\".format(link, e))"
      ]
    },
    {
      "cell_type": "code",
      "metadata": {},
      "outputs": [],
      "execution_count": 0,
      "source": [
        "labels_ctr \u003d Counter()\n",
        "output_dir \u003d images.get_path()\n",
        "\n",
        "for row in image_urls.iter_rows():\n",
        "    link \u003d row[\u0027url\u0027]\n",
        "    label \u003d row[\u0027label\u0027]\n",
        "    label_dir \u003d os.path.join(output_dir, label)\n",
        "    os.makedirs(label_dir, exist_ok\u003dTrue)\n",
        "    labels_ctr[label] +\u003d 1\n",
        "    download_image(link, label_dir, f\u0027{label}_{labels_ctr[label]}\u0027)"
      ]
    }
  ]
}