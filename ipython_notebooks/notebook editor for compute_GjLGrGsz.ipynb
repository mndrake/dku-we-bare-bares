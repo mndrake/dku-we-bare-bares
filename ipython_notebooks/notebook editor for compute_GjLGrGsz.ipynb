{
  "metadata": {
    "kernelspec": {
      "display_name": "Python (env python_36)",
      "name": "py-dku-venv-python_36",
      "language": "python"
    },
    "language_info": {
      "mimetype": "text/x-python",
      "nbconvert_exporter": "python",
      "version": "3.6.14",
      "name": "python",
      "pygments_lexer": "ipython3",
      "file_extension": ".py",
      "codemirror_mode": {
        "version": 3,
        "name": "ipython"
      }
    },
    "tags": [
      "recipe-editor"
    ],
    "associatedRecipe": "compute_GjLGrGsz",
    "createdOn": 1643744188039,
    "hide_input": false,
    "customFields": {},
    "creator": "admin",
    "modifiedBy": "admin"
  },
  "nbformat": 4,
  "nbformat_minor": 1,
  "cells": [
    {
      "execution_count": 4,
      "cell_type": "code",
      "metadata": {},
      "source": [
        "%config Completer.use_jedi \u003d False"
      ],
      "outputs": []
    },
    {
      "execution_count": 5,
      "cell_type": "code",
      "metadata": {},
      "source": [
        "# -*- coding: utf-8 -*-\nimport dataiku\nimport pandas as pd, numpy as np\nfrom dataiku import pandasutils as pdu"
      ],
      "outputs": []
    },
    {
      "execution_count": 6,
      "cell_type": "code",
      "metadata": {},
      "source": [
        "# Read recipe inputs\nimage_urls \u003d dataiku.Dataset(\"image_urls\")\nimage_urls_df \u003d image_urls.iter_rows()"
      ],
      "outputs": []
    },
    {
      "execution_count": 0,
      "cell_type": "code",
      "metadata": {},
      "source": [
        "# from pathlib import Path\nimport urllib.request\n# import urllib\n# import imghdr\nimport posixpath\n# import re\n\nclass Downloader:\n    def __init(self):\n        pass\n#     def __init__(self, query, limit, output_dir, adult, timeout,  filter\u003d\u0027\u0027, verbose\u003dTrue):\n#         self.download_count \u003d 0\n#         self.query \u003d query\n#         self.output_dir \u003d output_dir\n#         self.adult \u003d adult\n#         self.filter \u003d filter\n#         self.verbose \u003d verbose\n#         self.seen \u003d set()\n\n#         assert type(limit) \u003d\u003d int, \"limit must be integer\"\n#         self.limit \u003d limit\n#         assert type(timeout) \u003d\u003d int, \"timeout must be integer\"\n#         self.timeout \u003d timeout\n\n#         # self.headers \u003d {\u0027User-Agent\u0027: \u0027Mozilla/5.0 (X11; Fedora; Linux x86_64; rv:60.0) Gecko/20100101 Firefox/60.0\u0027}\n#         self.page_counter \u003d 0\n#         self.headers \u003d {\u0027User-Agent\u0027: \u0027Mozilla/5.0 (X11; Linux x86_64) \u0027 \n#       \u0027AppleWebKit/537.11 (KHTML, like Gecko) \u0027\n#       \u0027Chrome/23.0.1271.64 Safari/537.11\u0027,\n#       \u0027Accept\u0027: \u0027text/html,application/xhtml+xml,application/xml;q\u003d0.9,*/*;q\u003d0.8\u0027,\n#       \u0027Accept-Charset\u0027: \u0027ISO-8859-1,utf-8;q\u003d0.7,*;q\u003d0.3\u0027,\n#       \u0027Accept-Encoding\u0027: \u0027none\u0027,\n#       \u0027Accept-Language\u0027: \u0027en-US,en;q\u003d0.8\u0027,\n#       \u0027Connection\u0027: \u0027keep-alive\u0027}\n\n\n#     def get_filter(self, shorthand):\n#             if shorthand \u003d\u003d \"line\" or shorthand \u003d\u003d \"linedrawing\":\n#                 return \"+filterui:photo-linedrawing\"\n#             elif shorthand \u003d\u003d \"photo\":\n#                 return \"+filterui:photo-photo\"\n#             elif shorthand \u003d\u003d \"clipart\":\n#                 return \"+filterui:photo-clipart\"\n#             elif shorthand \u003d\u003d \"gif\" or shorthand \u003d\u003d \"animatedgif\":\n#                 return \"+filterui:photo-animatedgif\"\n#             elif shorthand \u003d\u003d \"transparent\":\n#                 return \"+filterui:photo-transparent\"\n#             else:\n#                 return \"\"\n\n\n    def save_image(self, link, file_path):\n        request \u003d urllib.request.Request(link, None, self.headers)\n        image \u003d urllib.request.urlopen(request, timeout\u003dself.timeout).read()\n        if not imghdr.what(None, image):\n            print(\u0027[Error]Invalid image, not saving {}\\n\u0027.format(link))\n            raise ValueError(\u0027Invalid image, not saving {}\\n\u0027.format(link))\n        with open(str(file_path), \u0027wb\u0027) as f:\n            f.write(image)\n\n    \n    def download_image(self, link):\n        self.download_count +\u003d 1\n        # Get the image link\n        try:\n            path \u003d urllib.parse.urlsplit(link).path\n            filename \u003d posixpath.basename(path).split(\u0027?\u0027)[0]\n            file_type \u003d filename.split(\".\")[-1]\n            if file_type.lower() not in [\"jpe\", \"jpeg\", \"jfif\", \"exif\", \"tiff\", \"gif\", \"bmp\", \"png\", \"webp\", \"jpg\"]:\n                file_type \u003d \"jpg\"\n                \n            if self.verbose:\n                # Download the image\n                print(\"[%] Downloading Image #{} from {}\".format(self.download_count, link))\n                \n            self.save_image(link, self.output_dir.joinpath(\"Image_{}.{}\".format(\n                str(self.download_count), file_type)))\n            if self.verbose:\n                print(\"[%] File Downloaded !\\n\")\n\n        except Exception as e:\n            self.download_count -\u003d 1\n            print(\"[!] Issue getting: {}\\n[!] Error:: {}\".format(link, e))\n\n      \n    \n#     def run(self):\n#         while self.download_count \u003c self.limit:\n#             if self.verbose:\n#                 print(\u0027\\n\\n[!!]Indexing page: {}\\n\u0027.format(self.page_counter + 1))\n#             # Parse the page source and download pics\n#             request_url \u003d \u0027https://www.bing.com/images/async?q\u003d\u0027 + urllib.parse.quote_plus(self.query) \\\n#                           + \u0027\u0026first\u003d\u0027 + str(self.page_counter) + \u0027\u0026count\u003d\u0027 + str(self.limit) \\\n#                           + \u0027\u0026adlt\u003d\u0027 + self.adult + \u0027\u0026qft\u003d\u0027 + (\u0027\u0027 if self.filter is None else self.get_filter(self.filter))\n#             request \u003d urllib.request.Request(request_url, None, headers\u003dself.headers)\n#             response \u003d urllib.request.urlopen(request)\n#             html \u003d response.read().decode(\u0027utf8\u0027)\n#             if html \u003d\u003d  \"\":\n#                 print(\"[%] No more images are available\")\n#                 break\n#             links \u003d re.findall(\u0027murl\u0026quot;:\u0026quot;(.*?)\u0026quot;\u0027, html)\n#             if self.verbose:\n#                 print(\"[%] Indexed {} Images on Page {}.\".format(len(links), self.page_counter + 1))\n#                 print(\"\\n\u003d\u003d\u003d\u003d\u003d\u003d\u003d\u003d\u003d\u003d\u003d\u003d\u003d\u003d\u003d\u003d\u003d\u003d\u003d\u003d\u003d\u003d\u003d\u003d\u003d\u003d\u003d\u003d\u003d\u003d\u003d\u003d\u003d\u003d\u003d\u003d\u003d\u003d\u003d\u003d\u003d\u003d\u003d\u003d\u003d\u003d\u003d\\n\")\n\n#             for link in links:\n#                 if self.download_count \u003c self.limit and link not in self.seen:\n#                     self.seen.add(link)\n#                     #self.download_image(link)\n#                     self.download_count +\u003d 1\n\n#             self.page_counter +\u003d 1\n#         print(\"\\n\\n[%] Done. Downloaded {} images.\".format(self.download_count))\n\n\n"
      ],
      "outputs": []
    },
    {
      "execution_count": 0,
      "cell_type": "code",
      "metadata": {},
      "source": [
        "    def download_image(link, output_dir, ):\n        #self.download_count +\u003d 1\n        # Get the image link\n        try:\n            path \u003d urllib.parse.urlsplit(link).path\n            filename \u003d posixpath.basename(path).split(\u0027?\u0027)[0]\n            file_type \u003d filename.split(\".\")[-1]\n            if file_type.lower() not in [\"jpe\", \"jpeg\", \"jfif\", \"exif\", \"tiff\", \"gif\", \"bmp\", \"png\", \"webp\", \"jpg\"]:\n                file_type \u003d \"jpg\"\n                \n            # Download the image\n            print(\"[%] Downloading Image from {}\".format(link))\n            \n            # Save the image\n            file_path \u003d output_dir.joinpath(\"Image_{}.{}\".format(\n                str(self.download_count), file_type))\n            \n            \n        def save_image(self, link, file_path):\n        request \u003d urllib.request.Request(link, None, self.headers)\n        image \u003d urllib.request.urlopen(request, timeout\u003dself.timeout).read()\n        if not imghdr.what(None, image):\n            print(\u0027[Error]Invalid image, not saving {}\\n\u0027.format(link))\n            raise ValueError(\u0027Invalid image, not saving {}\\n\u0027.format(link))\n        with open(str(file_path), \u0027wb\u0027) as f:\n            f.write(image)\n            \n            \n            self.save_image(link, self.output_dir.joinpath(\"Image_{}.{}\".format(\n                str(self.download_count), file_type)))\n            if self.verbose:\n                print(\"[%] File Downloaded !\\n\")\n\n        except Exception as e:\n            self.download_count -\u003d 1\n            print(\"[!] Issue getting: {}\\n[!] Error:: {}\".format(link, e))"
      ],
      "outputs": []
    },
    {
      "execution_count": 7,
      "cell_type": "code",
      "metadata": {},
      "source": [
        "for row in image_urls_df:\n    break"
      ],
      "outputs": []
    },
    {
      "execution_count": 8,
      "cell_type": "code",
      "metadata": {},
      "source": [
        "row"
      ],
      "outputs": [
        {
          "output_type": "execute_result",
          "metadata": {},
          "data": {
            "text/plain": "{\u0027label\u0027: \u0027black\u0027, \u0027url\u0027: \u0027https://www.gannett-cdn.com/-mm-/9e1f6e2ee20f44aa1f3be4f71e9f3e52b6ae2c7e/c\u003d0-110-2121-1303/local/-/media/2018/01/01/Morristown/B9330818010Z.1_20180101143636_000_GC4KOGOGN.1-0.jpg?width\u003d2121\u0026amp;height\u003d1193\u0026amp;fit\u003dcrop\u0026amp;format\u003dpjpg\u0026amp;auto\u003dwebp\u0027}"
          },
          "execution_count": 8
        }
      ]
    },
    {
      "execution_count": 0,
      "cell_type": "code",
      "metadata": {},
      "source": [
        ""
      ],
      "outputs": []
    },
    {
      "execution_count": 0,
      "cell_type": "code",
      "metadata": {},
      "source": [
        "\n\n\n\n\n\n\n# Write recipe outputs\nimages \u003d dataiku.Folder(\"GjLGrGsz\")\nimages_info \u003d images.get_info()"
      ],
      "outputs": []
    }
  ]
}