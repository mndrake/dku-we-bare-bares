{
  "metadata": {
    "kernelspec": {
      "display_name": "Python (env python_36)",
      "name": "py-dku-venv-python_36",
      "language": "python"
    },
    "language_info": {
      "mimetype": "text/x-python",
      "nbconvert_exporter": "python",
      "version": "3.6.14",
      "name": "python",
      "pygments_lexer": "ipython3",
      "file_extension": ".py",
      "codemirror_mode": {
        "version": 3,
        "name": "ipython"
      }
    },
    "tags": [
      "recipe-editor"
    ],
    "associatedRecipe": "compute_GjLGrGsz",
    "createdOn": 1643744188039,
    "hide_input": false,
    "customFields": {},
    "creator": "admin",
    "modifiedBy": "admin"
  },
  "nbformat": 4,
  "nbformat_minor": 1,
  "cells": [
    {
      "execution_count": 4,
      "cell_type": "code",
      "metadata": {},
      "source": [
        "%config Completer.use_jedi \u003d False"
      ],
      "outputs": []
    },
    {
      "execution_count": 5,
      "cell_type": "code",
      "metadata": {},
      "source": [
        "# -*- coding: utf-8 -*-\nimport dataiku\nimport pandas as pd, numpy as np\nfrom dataiku import pandasutils as pdu"
      ],
      "outputs": []
    },
    {
      "execution_count": 6,
      "cell_type": "code",
      "metadata": {},
      "source": [
        "# Read recipe inputs\nimage_urls \u003d dataiku.Dataset(\"image_urls\")\nimage_urls_df \u003d image_urls.iter_rows()"
      ],
      "outputs": []
    },
    {
      "execution_count": 7,
      "cell_type": "code",
      "metadata": {},
      "source": [
        "for row in image_urls_df:\n    break"
      ],
      "outputs": []
    },
    {
      "execution_count": 8,
      "cell_type": "code",
      "metadata": {},
      "source": [
        "row"
      ],
      "outputs": [
        {
          "output_type": "execute_result",
          "metadata": {},
          "data": {
            "text/plain": "{\u0027label\u0027: \u0027black\u0027, \u0027url\u0027: \u0027https://www.gannett-cdn.com/-mm-/9e1f6e2ee20f44aa1f3be4f71e9f3e52b6ae2c7e/c\u003d0-110-2121-1303/local/-/media/2018/01/01/Morristown/B9330818010Z.1_20180101143636_000_GC4KOGOGN.1-0.jpg?width\u003d2121\u0026amp;height\u003d1193\u0026amp;fit\u003dcrop\u0026amp;format\u003dpjpg\u0026amp;auto\u003dwebp\u0027}"
          },
          "execution_count": 8
        }
      ]
    },
    {
      "execution_count": 0,
      "cell_type": "code",
      "metadata": {},
      "source": [
        ""
      ],
      "outputs": []
    },
    {
      "execution_count": 0,
      "cell_type": "code",
      "metadata": {},
      "source": [
        "\n\n\n\n\n\n\n# Write recipe outputs\nimages \u003d dataiku.Folder(\"GjLGrGsz\")\nimages_info \u003d images.get_info()"
      ],
      "outputs": []
    }
  ]
}