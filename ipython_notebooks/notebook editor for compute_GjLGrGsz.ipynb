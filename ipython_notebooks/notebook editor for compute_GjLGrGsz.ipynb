{
  "metadata": {
    "kernelspec": {
      "display_name": "Python (env python_36)",
      "name": "py-dku-venv-python_36",
      "language": "python"
    },
    "language_info": {
      "mimetype": "text/x-python",
      "nbconvert_exporter": "python",
      "version": "3.6.14",
      "name": "python",
      "pygments_lexer": "ipython3",
      "file_extension": ".py",
      "codemirror_mode": {
        "version": 3,
        "name": "ipython"
      }
    },
    "tags": [
      "recipe-editor"
    ],
    "associatedRecipe": "compute_GjLGrGsz",
    "createdOn": 1643744188039,
    "hide_input": false,
    "customFields": {},
    "creator": "admin",
    "modifiedBy": "admin"
  },
  "nbformat": 4,
  "nbformat_minor": 1,
  "cells": [
    {
      "execution_count": 4,
      "cell_type": "code",
      "metadata": {},
      "source": [
        "%config Completer.use_jedi \u003d False"
      ],
      "outputs": []
    },
    {
      "execution_count": 31,
      "cell_type": "code",
      "metadata": {},
      "source": [
        "# -*- coding: utf-8 -*-\nimport dataiku\nimport os\nimport pandas as pd, numpy as np\nfrom dataiku import pandasutils as pdu"
      ],
      "outputs": []
    },
    {
      "execution_count": 6,
      "cell_type": "code",
      "metadata": {},
      "source": [
        "# Read recipe inputs\nimage_urls \u003d dataiku.Dataset(\"image_urls\")\nimage_urls_df \u003d image_urls.iter_rows()"
      ],
      "outputs": []
    },
    {
      "execution_count": 13,
      "cell_type": "code",
      "metadata": {},
      "source": [
        "def download_image(link, output_dir, image_name, timeout\u003d60):\n    headers \u003d {\u0027User-Agent\u0027: \u0027Mozilla/5.0 (X11; Linux x86_64) \u0027 \n        \u0027AppleWebKit/537.11 (KHTML, like Gecko) \u0027\n        \u0027Chrome/23.0.1271.64 Safari/537.11\u0027,\n        \u0027Accept\u0027: \u0027text/html,application/xhtml+xml,application/xml;q\u003d0.9,*/*;q\u003d0.8\u0027,\n        \u0027Accept-Charset\u0027: \u0027ISO-8859-1,utf-8;q\u003d0.7,*;q\u003d0.3\u0027,\n        \u0027Accept-Encoding\u0027: \u0027none\u0027,\n        \u0027Accept-Language\u0027: \u0027en-US,en;q\u003d0.8\u0027,\n        \u0027Connection\u0027: \u0027keep-alive\u0027}       \n    # Get the image link\n    try:\n        path \u003d urllib.parse.urlsplit(link).path\n        filename \u003d posixpath.basename(path).split(\u0027?\u0027)[0]\n        file_type \u003d filename.split(\".\")[-1]\n        if file_type.lower() not in [\"jpe\", \"jpeg\", \"jfif\", \"exif\", \"tiff\", \"gif\", \"bmp\", \"png\", \"webp\", \"jpg\"]:\n            file_type \u003d \"jpg\"\n\n        # Download the image\n        print(\"[%] Downloading Image from {}\".format(link))\n\n        # Save the image\n        file_path \u003d output_dir.joinpath(f\"{image_name}.{file_type}\")\n        request \u003d urllib.request.Request(link, None, headers)\n        image \u003d urllib.request.urlopen(request, timeout\u003dtimeout).read()\n        if not imghdr.what(None, image):\n            print(\u0027[Error]Invalid image, not saving {}\\n\u0027.format(link))\n            raise ValueError(\u0027Invalid image, not saving {}\\n\u0027.format(link))\n        with open(str(file_path), \u0027wb\u0027) as f:\n            f.write(image)\n        print(\"[%] File Downloaded !\\n\")\n\n    except Exception as e:\n        print(\"[!] Issue getting: {}\\n[!] Error:: {}\".format(link, e))"
      ],
      "outputs": []
    },
    {
      "execution_count": 7,
      "cell_type": "code",
      "metadata": {},
      "source": [
        "for row in image_urls_df:\n    break"
      ],
      "outputs": []
    },
    {
      "execution_count": 8,
      "cell_type": "code",
      "metadata": {},
      "source": [
        "row"
      ],
      "outputs": [
        {
          "output_type": "execute_result",
          "metadata": {},
          "data": {
            "text/plain": "{\u0027label\u0027: \u0027black\u0027, \u0027url\u0027: \u0027https://www.gannett-cdn.com/-mm-/9e1f6e2ee20f44aa1f3be4f71e9f3e52b6ae2c7e/c\u003d0-110-2121-1303/local/-/media/2018/01/01/Morristown/B9330818010Z.1_20180101143636_000_GC4KOGOGN.1-0.jpg?width\u003d2121\u0026amp;height\u003d1193\u0026amp;fit\u003dcrop\u0026amp;format\u003dpjpg\u0026amp;auto\u003dwebp\u0027}"
          },
          "execution_count": 8
        }
      ]
    },
    {
      "execution_count": 30,
      "cell_type": "code",
      "metadata": {},
      "source": [
        "from collections import Counter\n\nlabels \u003d Counter()\noutput_dir \u003d images.get_path()\n\nlink \u003d row[\u0027url\u0027]\nlabel \u003d row[\u0027label\u0027]\n\noutput_dir.joinpath(label)\n\n#def download_image(link, output_dir, image_name, timeout\u003d60)"
      ],
      "outputs": [
        {
          "output_type": "error",
          "evalue": "\u0027str\u0027 object has no attribute \u0027joinpath\u0027",
          "traceback": [
            "\u001b[0;31m---------------------------------------------------------------------------\u001b[0m",
            "\u001b[0;31mAttributeError\u001b[0m                            Traceback (most recent call last)",
            "\u001b[0;32m\u003cipython-input-30-fa3744a198a2\u003e\u001b[0m in \u001b[0;36m\u003cmodule\u003e\u001b[0;34m\u001b[0m\n\u001b[1;32m      7\u001b[0m \u001b[0mlabel\u001b[0m \u001b[0;34m\u003d\u001b[0m \u001b[0mrow\u001b[0m\u001b[0;34m[\u001b[0m\u001b[0;34m\u0027label\u0027\u001b[0m\u001b[0;34m]\u001b[0m\u001b[0;34m\u001b[0m\u001b[0;34m\u001b[0m\u001b[0m\n\u001b[1;32m      8\u001b[0m \u001b[0;34m\u001b[0m\u001b[0m\n\u001b[0;32m----\u003e 9\u001b[0;31m \u001b[0moutput_dir\u001b[0m\u001b[0;34m.\u001b[0m\u001b[0mjoinpath\u001b[0m\u001b[0;34m(\u001b[0m\u001b[0mlabel\u001b[0m\u001b[0;34m)\u001b[0m\u001b[0;34m\u001b[0m\u001b[0;34m\u001b[0m\u001b[0m\n\u001b[0m\u001b[1;32m     10\u001b[0m \u001b[0;34m\u001b[0m\u001b[0m\n\u001b[1;32m     11\u001b[0m \u001b[0;31m#def download_image(link, output_dir, image_name, timeout\u003d60)\u001b[0m\u001b[0;34m\u001b[0m\u001b[0;34m\u001b[0m\u001b[0;34m\u001b[0m\u001b[0m\n",
            "\u001b[0;31mAttributeError\u001b[0m: \u0027str\u0027 object has no attribute \u0027joinpath\u0027"
          ],
          "ename": "AttributeError"
        }
      ]
    },
    {
      "execution_count": 18,
      "cell_type": "code",
      "metadata": {},
      "source": [
        ""
      ],
      "outputs": []
    },
    {
      "execution_count": 22,
      "cell_type": "code",
      "metadata": {},
      "source": [
        "labels[\u0027black\u0027] +\u003d 1"
      ],
      "outputs": []
    },
    {
      "execution_count": 23,
      "cell_type": "code",
      "metadata": {},
      "source": [
        "labels[\u0027black\u0027]"
      ],
      "outputs": [
        {
          "output_type": "execute_result",
          "metadata": {},
          "data": {
            "text/plain": "2"
          },
          "execution_count": 23
        }
      ]
    },
    {
      "execution_count": 0,
      "cell_type": "code",
      "metadata": {},
      "source": [
        "download_image(row[\u0027url\u0027], output_dir, image_name, timeout\u003d60)"
      ],
      "outputs": []
    },
    {
      "execution_count": 24,
      "cell_type": "code",
      "metadata": {},
      "source": [
        "\n\n\n\n\n\n\n# Write recipe outputs\nimages \u003d dataiku.Folder(\"GjLGrGsz\")"
      ],
      "outputs": []
    },
    {
      "execution_count": 25,
      "cell_type": "code",
      "metadata": {},
      "source": [
        "images.get_path()"
      ],
      "outputs": [
        {
          "output_type": "execute_result",
          "metadata": {},
          "data": {
            "text/plain": "\u0027/Users/davidcarlson/Library/dss/design/managed_folders/WEBAREBARES/GjLGrGsz\u0027"
          },
          "execution_count": 25
        }
      ]
    },
    {
      "execution_count": 0,
      "cell_type": "code",
      "metadata": {},
      "source": [
        ""
      ],
      "outputs": []
    }
  ]
}