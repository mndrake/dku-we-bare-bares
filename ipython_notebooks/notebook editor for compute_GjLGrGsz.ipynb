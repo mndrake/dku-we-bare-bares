{
  "nbformat": 4,
  "nbformat_minor": 0,
  "metadata": {
    "kernelspec": {
      "display_name": "Python (env python_36)",
      "language": "python",
      "name": "py-dku-venv-python_36"
    },
    "associatedRecipe": "compute_GjLGrGsz",
    "creator": "admin",
    "createdOn": 1643744188039,
    "tags": [
      "recipe-editor"
    ],
    "customFields": {}
  },
  "cells": [
    {
      "cell_type": "code",
      "metadata": {},
      "outputs": [],
      "execution_count": 0,
      "source": [
        "# -*- coding: utf-8 -*-\n",
        "import dataiku\n",
        "import pandas as pd, numpy as np\n",
        "from dataiku import pandasutils as pdu\n",
        "\n",
        "# Read recipe inputs\n",
        "image_urls \u003d dataiku.Dataset(\"image_urls\")\n",
        "image_urls_df \u003d image_urls.get_dataframe()\n",
        "\n",
        "\n",
        "\n",
        "\n",
        "# Write recipe outputs\n",
        "images \u003d dataiku.Folder(\"GjLGrGsz\")\n",
        "images_info \u003d images.get_info()"
      ]
    }
  ]
}